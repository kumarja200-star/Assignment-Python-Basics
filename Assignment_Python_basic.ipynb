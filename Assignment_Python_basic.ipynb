{
  "nbformat": 4,
  "nbformat_minor": 0,
  "metadata": {
    "colab": {
      "provenance": []
    },
    "kernelspec": {
      "name": "python3",
      "display_name": "Python 3"
    },
    "language_info": {
      "name": "python"
    }
  },
  "cells": [
    {
      "cell_type": "markdown",
      "source": [
        "**Python Basics Questions**"
      ],
      "metadata": {
        "id": "zcijLQR_1qvb"
      }
    },
    {
      "cell_type": "markdown",
      "source": [
        "1. What is Python, and why is it popular?\n",
        "  - python is a dynamically typical object oriented programming language that people use to tell computers what to do.\n",
        "      *  Versatile\n",
        "      *  Python is simple and easy\n",
        "      *  Big community\n",
        "      *  Lots of libraries\n",
        "2. What is an interpreter in Python?\n",
        " - A Python code, the computer doesn’t directly understand it because computers only understand machine language (0s and 1s).\n",
        "The Python interpreter reads your code line by line, translates it into a language the computer understands, and makes it run immediately.   \n",
        "\n",
        "3. What are pre-defined keywords in Python?\n",
        " -  Pre-defined keywords in Python are special words that Python has already reserved for specific purposes.You cannot use them as variable names or function names because Python already uses them to understand certain commands.\n",
        "   Ex: if, else, for, while, True, False, class, def\n",
        "\n",
        "4. Can keywords be used as variable names?\n",
        " - No, keywords cannot be used as variable names in Python.\n",
        "Because keywords have a special meaning in Python, if you try to use them as variable names, Python will get confused and show an error.\n",
        "Ex:wrong.\n",
        "\n",
        "5. What is mutability in Python?\n",
        " - Mutability in Python means whether something can be changed after it is created.It Can be changed you can modify its content without creating a new one.EX:list, dict, set → you can add, remove, or update items.\n",
        "\n",
        "6. Why are lists mutable, but tuples are immutable?\n",
        " - Lists are mutable because Python allows you to change their contents (add, remove, or update items) after creating them.\n",
        "Tuples are immutable because Python locks their contents — once created, you cannot change, add, or remove anything inside them.\n",
        "\n",
        "7. What is the difference between “==” and “is” operators in Python?\n",
        " - == (equal to) → Checks if the values are the same.\n",
        "is (identity) → Checks if two things are actually the same object in memory.\n",
        "Example:\n",
        "a = [1, 2, 3]\n",
        "b = [1, 2, 3]\n",
        "print(a == b)  # True\n",
        "print(a is b)  # False\n",
        "\n",
        "8. What are logical operators in Python?\n",
        " - Logical operators in Python are special words that connect or combine conditions and give a True or False result.\n",
        "\n",
        "9. What is type casting in Python?\n",
        " - Type casting in Python means changing one type of data into another type.\n",
        "    Ex: changing a number into a string, or a string into a number.\n",
        "10. What is the difference between implicit and explicit type casting?\n",
        " - Type casting means changing data from one type to another, and it happens in two ways.\n",
        "    *  Implicit → Python changes it by itself.\n",
        "       Explicit → You change it on purpose.\n",
        "11. What is the purpose of conditional statements in Python?\n",
        " - The purpose of conditional statements in Python is to let your program make decisions and run different code depending on conditions.\n",
        "   They check if something is True or False and then decide what to do next.\n",
        "12. How does the elif statement work?\n",
        " - It is used when you have more than two possible conditions to check.\n",
        "Python checks each condition in order, and as soon as it finds one that is True, it runs that block of code and skips the rest.\n",
        "\n",
        "13. What is the difference between for and while loops?\n",
        " -  for loop → Runs a fixed number of times.\n",
        "    while loop → Runs until a condition becomes False.\n",
        "14. Describe a scenario where a while loop is more suitable than a for loop?\n",
        " - A while loop is more suitable when you don’t know in advance how many times you’ll need to repeat something — you just keep going until a certain condition is met.\n",
        "\n",
        "\n",
        "\n",
        "\n",
        "\n",
        "\n",
        "\n",
        "\n",
        "    \n",
        "\n",
        "\n",
        "\n",
        "\n",
        "\n",
        "\n",
        "\n",
        "\n",
        "   \n",
        "\n",
        "\n",
        "\n"
      ],
      "metadata": {
        "id": "YV_snytL113T"
      }
    },
    {
      "cell_type": "markdown",
      "source": [
        "**Practical Questions**\n"
      ],
      "metadata": {
        "id": "ffpzYmSs-AP5"
      }
    },
    {
      "cell_type": "code",
      "execution_count": null,
      "metadata": {
        "colab": {
          "base_uri": "https://localhost:8080/"
        },
        "id": "DQNVcdulvJ2w",
        "outputId": "2d4db422-f635-499e-eee2-77834467fb0c"
      },
      "outputs": [
        {
          "output_type": "stream",
          "name": "stdout",
          "text": [
            "Hello World\n"
          ]
        }
      ],
      "source": [
        "## Write a Python program to print \"Hello, World!?\n",
        "print(\"Hello World\")"
      ]
    },
    {
      "cell_type": "code",
      "source": [
        "## Write a Python program that displays your name and age?\n",
        "print(\"Jay kumar\",\"and\",\"age is 21\")"
      ],
      "metadata": {
        "colab": {
          "base_uri": "https://localhost:8080/"
        },
        "id": "Ic-YxwbB-sxc",
        "outputId": "5ece5092-e515-4141-db3b-964ab0ca0c77"
      },
      "execution_count": null,
      "outputs": [
        {
          "output_type": "stream",
          "name": "stdout",
          "text": [
            "Jay kumar and age is 21\n"
          ]
        }
      ]
    },
    {
      "cell_type": "code",
      "source": [
        "## Write code to print all the pre-defined keywords in Python using the keyword library?\n",
        "import keyword\n",
        "all_keywords = keyword.kwlist\n",
        "print(\"Python Keywords are:\")\n",
        "for k in all_keywords:\n",
        "    print(k)"
      ],
      "metadata": {
        "colab": {
          "base_uri": "https://localhost:8080/"
        },
        "id": "mBixynfo_WLS",
        "outputId": "06b9bb64-4f4d-4241-a47a-044ddcbc0b57"
      },
      "execution_count": null,
      "outputs": [
        {
          "output_type": "stream",
          "name": "stdout",
          "text": [
            "Python Keywords are:\n",
            "False\n",
            "None\n",
            "True\n",
            "and\n",
            "as\n",
            "assert\n",
            "async\n",
            "await\n",
            "break\n",
            "class\n",
            "continue\n",
            "def\n",
            "del\n",
            "elif\n",
            "else\n",
            "except\n",
            "finally\n",
            "for\n",
            "from\n",
            "global\n",
            "if\n",
            "import\n",
            "in\n",
            "is\n",
            "lambda\n",
            "nonlocal\n",
            "not\n",
            "or\n",
            "pass\n",
            "raise\n",
            "return\n",
            "try\n",
            "while\n",
            "with\n",
            "yield\n"
          ]
        }
      ]
    },
    {
      "cell_type": "markdown",
      "source": [],
      "metadata": {
        "id": "vmwu7mlDvgoH"
      }
    },
    {
      "cell_type": "code",
      "source": [
        "## Write a program that checks if a given word is a Python keyword?\n",
        "import keyword\n",
        "word = input(\"Enter a word: \")\n",
        "if keyword.iskeyword(word):\n",
        "    print(f\"'{word}' is a Python keyword.\")\n",
        "else:\n",
        "    print(f\"'{word}' is NOT a Python keyword.\")"
      ],
      "metadata": {
        "id": "Dx3UG29BAIDb"
      },
      "execution_count": null,
      "outputs": []
    },
    {
      "cell_type": "code",
      "source": [
        "## Create a list and tuple in Python, and demonstrate how attempting to change an element works differently\n",
        "for each?\n",
        "my_list = [10, 20, 30]\n",
        "print(\"Original list:\", my_list)\n",
        "my_tuple = (10, 20, 30)\n",
        "print(\"\\nOriginal tuple:\", my_tuple)"
      ],
      "metadata": {
        "id": "kr_lXTuvAssE"
      },
      "execution_count": null,
      "outputs": []
    },
    {
      "cell_type": "code",
      "source": [
        "## Write a program that performs basic arithmetic operations on two user-input numbers?\n",
        "  # Ask the user for two numbers\n",
        "num1 = float(input(\"Enter the first number: \"))\n",
        "num2 = float(input(\"Enter the second number: \"))\n",
        "\n",
        "# Perform arithmetic operations\n",
        "addition = num1 + num2\n",
        "subtraction = num1 - num2\n",
        "multiplication = num1 * num2\n",
        "division = num1 / num2 if num2 != 0 else \"Cannot divide by zero\"\n",
        "\n",
        "# Show the results\n",
        "print(\"\\nResults:\")\n",
        "print(f\"Addition: {addition}\")\n",
        "print(f\"Subtraction: {subtraction}\")\n",
        "print(f\"Multiplication: {multiplication}\")\n",
        "print(f\"Division: {division}\")\n"
      ],
      "metadata": {
        "id": "5oIcSAM0Eq0y"
      },
      "execution_count": null,
      "outputs": []
    },
    {
      "cell_type": "code",
      "source": [
        "## Write a program to demonstrate the use of logical operators?\n",
        "  # Ask the user for two numbers\n",
        "num1 = int(input(\"Enter first number: \"))\n",
        "num2 = int(input(\"Enter second number: \"))\n",
        "# Using logical AND\n",
        "if num1 > 0 and num2 > 0:\n",
        "    print(\"Both numbers are positive.\")\n",
        "# Using logical OR\n",
        "if num1 > 0 or num2 > 0:\n",
        "    print(\"At least one number is positive.\")\n",
        "# Using logical NOT\n",
        "if not (num1 > 0):\n",
        "    print(\"First number is NOT positive.\")\n"
      ],
      "metadata": {
        "id": "6V_Com7jF5uJ"
      },
      "execution_count": null,
      "outputs": []
    },
    {
      "cell_type": "code",
      "source": [
        "## Write code to demonstrate type casting with list elements?\n",
        "  # Original list with string numbers\n",
        "string_numbers = [\"10\", \"20\", \"30\", \"40\"]\n",
        "\n",
        "print(\"Original list (strings):\", string_numbers)\n",
        "# Convert each element to integer using list comprehension\n",
        "int_numbers = [int(num) for num in string_numbers]\n",
        "print(\"After converting to integers:\", int_numbers)\n",
        "# Convert each element to float\n",
        "float_numbers = [float(num) for num in string_numbers]\n",
        "print(\"After converting to floats:\", float_numbers)\n",
        "\n",
        ""
      ],
      "metadata": {
        "id": "aDhHBc2zGYqE"
      },
      "execution_count": null,
      "outputs": []
    },
    {
      "cell_type": "code",
      "source": [
        "## Write a program that checks if a number is positive, negative, or zero?\n",
        "  #Ask the user for a number\n",
        "num = float(input(\"Enter a number: \"))\n",
        "# Check the number\n",
        "if num > 0:\n",
        "    print(\"The number is Positive.\")\n",
        "elif num < 0:\n",
        "    print(\"The number is Negative.\")\n",
        "else:\n",
        "    print(\"The number is Zero.\")\n"
      ],
      "metadata": {
        "id": "kIjNK_NJHmCY"
      },
      "execution_count": null,
      "outputs": []
    },
    {
      "cell_type": "code",
      "source": [
        "## Write a for loop to print numbers from 1 to 10?\n",
        "  # Using a for loop to print numbers from 1 to 10\n",
        "for i in range(1, 11):\n",
        "    print(i)\n"
      ],
      "metadata": {
        "id": "UObEnJheH89i"
      },
      "execution_count": null,
      "outputs": []
    },
    {
      "cell_type": "code",
      "source": [
        "##  Write a Python program to find the sum of all even numbers between 1 and 50?\n",
        "  # Variable to store the sum\n",
        "total = 0\n",
        "# Loop from 1 to 50\n",
        "for num in range(1, 51):\n",
        "    # Check if the number is even\n",
        "    if num % 2 == 0:\n",
        "        total += num  # Add the even number to total\n",
        "# Print the final sum\n",
        "print(\"Sum of even numbers between 1 and 50 is:\", total)\n"
      ],
      "metadata": {
        "id": "qEj_Y5DbITe8"
      },
      "execution_count": null,
      "outputs": []
    },
    {
      "cell_type": "code",
      "source": [
        "##  Write a program to reverse a string using a while loop?\n",
        "  # Ask the user for a string\n",
        "text = input(\"Enter a string: \")\n",
        "# Start from the last character\n",
        "index = len(text) - 1\n",
        "# Variable to store the reversed string\n",
        "reversed_text = \"\"\n",
        "# While loop to go backwards through the string\n",
        "while index >= 0:\n",
        "    reversed_text += text[index]  # Add character to reversed_text\n",
        "    index -= 1  # Move to the previous character\n",
        "# Print the reversed string\n",
        "print(\"Reversed string:\", reversed_text)\n"
      ],
      "metadata": {
        "id": "1cnvQhBIIi1y"
      },
      "execution_count": null,
      "outputs": []
    },
    {
      "cell_type": "code",
      "source": [
        "##  Write a Python program to calculate the factorial of a number provided by the user using a while loop?\n",
        "   # Ask the user for a number\n",
        "num = int(input(\"Enter a number: \"))\n",
        "# Start with 1 because factorial multiplies numbers\n",
        "factorial = 1\n",
        "# Counter variable\n",
        "i = 1\n",
        "# While loop to multiply numbers from 1 to num\n",
        "while i <= num:\n",
        "    factorial *= i  # Multiply factorial by i\n",
        "    i += 1          # Move to the next number\n",
        "# Print the result\n",
        "print(f\"Factorial of {num} is {factorial}\")\n"
      ],
      "metadata": {
        "id": "XtjPqtQaJFRT"
      },
      "execution_count": null,
      "outputs": []
    }
  ]
}